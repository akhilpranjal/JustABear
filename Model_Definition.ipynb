{
  "nbformat": 4,
  "nbformat_minor": 0,
  "metadata": {
    "colab": {
      "private_outputs": true,
      "provenance": [],
      "gpuType": "T4",
      "mount_file_id": "1LYN2AR5GmNHkvL6SMDGsFvPT4vRPfVEW",
      "authorship_tag": "ABX9TyOZJONqR/137Qwn5EdmvDeh",
      "include_colab_link": true
    },
    "kernelspec": {
      "name": "python3",
      "display_name": "Python 3"
    },
    "language_info": {
      "name": "python"
    },
    "accelerator": "GPU"
  },
  "cells": [
    {
      "cell_type": "markdown",
      "metadata": {
        "id": "view-in-github",
        "colab_type": "text"
      },
      "source": [
        "<a href=\"https://colab.research.google.com/github/akhilpranjal/JustABear/blob/main/Model_Definition.ipynb\" target=\"_parent\"><img src=\"https://colab.research.google.com/assets/colab-badge.svg\" alt=\"Open In Colab\"/></a>"
      ]
    },
    {
      "cell_type": "markdown",
      "source": [
        "Importing required frameworks."
      ],
      "metadata": {
        "id": "p_lRmmE4QWHe"
      }
    },
    {
      "cell_type": "code",
      "source": [
        "from fastai.vision.all import *"
      ],
      "metadata": {
        "id": "4xYikcBq6p-e"
      },
      "execution_count": null,
      "outputs": []
    },
    {
      "cell_type": "markdown",
      "source": [
        "Preprocessing on the dataset using fastai data block and data loaders"
      ],
      "metadata": {
        "id": "yWHcsRb7Q9GL"
      }
    },
    {
      "cell_type": "code",
      "source": [
        "path = Path('/content/drive/MyDrive/images')\n",
        "image_files = get_image_files(path)\n",
        "\n",
        "bears = DataBlock(\n",
        "    blocks=(ImageBlock, CategoryBlock),\n",
        "    get_items=get_image_files,\n",
        "    splitter=RandomSplitter(valid_pct=0.2, seed=42),\n",
        "    get_y=parent_label,\n",
        "    item_tfms=Resize(224, ResizeMethod.Squish),\n",
        "    batch_tfms=aug_transforms())\n",
        "\n",
        "dls = bears.dataloaders(path)\n",
        "dls.show_batch(max_n=6)"
      ],
      "metadata": {
        "id": "Yf5X-uco6zvy"
      },
      "execution_count": null,
      "outputs": []
    },
    {
      "cell_type": "markdown",
      "source": [
        "Finetuning on resnet18 using vision_learner function in fastai."
      ],
      "metadata": {
        "id": "h3R34joiRJfn"
      }
    },
    {
      "cell_type": "code",
      "source": [
        "learn = vision_learner(dls, resnet18, metrics=error_rate)\n",
        "learn.fine_tune(8)"
      ],
      "metadata": {
        "id": "Ozkpkcsf7FM4"
      },
      "execution_count": null,
      "outputs": []
    },
    {
      "cell_type": "markdown",
      "source": [
        "Confusion matrix in fastai"
      ],
      "metadata": {
        "id": "rhbMeahfRhgj"
      }
    },
    {
      "cell_type": "code",
      "source": [
        "interp = ClassificationInterpretation.from_learner(learn)\n",
        "interp.plot_confusion_matrix()"
      ],
      "metadata": {
        "id": "rUJN_6Gg7KB9"
      },
      "execution_count": null,
      "outputs": []
    },
    {
      "cell_type": "markdown",
      "source": [
        "Getting the top losses to change the dataset accordingly"
      ],
      "metadata": {
        "id": "q6argGL_T4PN"
      }
    },
    {
      "cell_type": "code",
      "source": [
        "interp.plot_top_losses(10, nrows=10)"
      ],
      "metadata": {
        "id": "aSUs2Ekp7PtN"
      },
      "execution_count": null,
      "outputs": []
    },
    {
      "cell_type": "markdown",
      "source": [
        "Exporting the model's weights, optimizers and definitions in a .pkl extension file to save the model for infering the image"
      ],
      "metadata": {
        "id": "7RDzmhVUT_oB"
      }
    },
    {
      "cell_type": "code",
      "source": [
        "learn.export()"
      ],
      "metadata": {
        "id": "fWj7bqxHALK3"
      },
      "execution_count": null,
      "outputs": []
    },
    {
      "cell_type": "code",
      "source": [
        "learn_inf = load_learner('/content/export.pkl')"
      ],
      "metadata": {
        "id": "eiw31WcDAYmX"
      },
      "execution_count": null,
      "outputs": []
    },
    {
      "cell_type": "code",
      "source": [
        "learn_inf.dls.vocab"
      ],
      "metadata": {
        "id": "VeVSN2y5S59r"
      },
      "execution_count": null,
      "outputs": []
    },
    {
      "cell_type": "markdown",
      "source": [
        "Predicting the image by providing the path"
      ],
      "metadata": {
        "id": "JQ2N0bEZUPqQ"
      }
    },
    {
      "cell_type": "code",
      "source": [
        "learn_inf.predict('/content/aktion-brillenbaer-ecuador.jpg')"
      ],
      "metadata": {
        "id": "SZ9R5kUUAaX_"
      },
      "execution_count": null,
      "outputs": []
    }
  ]
}