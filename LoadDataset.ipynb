{
 "cells": [
  {
   "cell_type": "markdown",
   "id": "ed9dd42e",
   "metadata": {},
   "source": [
    "We will be loading the dataset using the icrawler package to download top image result on searching on Google.   \n",
    "The dataset will include pictures of different types of bears.   \n",
    "There are generally 7 types of bears (polar bear, brown bear, American black bear, spectacled bear, Asian black bear, sloth bear, sun bear, and giant panda)."
   ]
  },
  {
   "cell_type": "code",
   "execution_count": null,
   "id": "610a6148",
   "metadata": {},
   "outputs": [],
   "source": [
    "pip install icrawler"
   ]
  },
  {
   "cell_type": "code",
   "execution_count": null,
   "id": "4fa284fc",
   "metadata": {},
   "outputs": [],
   "source": [
    "from icrawler.builtin import GoogleImageCrawler\n",
    "\n",
    "bears = [\"polar bear\", \"brown bear\", \"black bear\", \"spectacled bear\", \"sloth bear\", \"sun bear\", \"giant panda\", \"teddy bear\"]\n",
    "for bear in bears:\n",
    "    google_crawler = GoogleImageCrawler(storage={'root_dir': f'images/{bear.replace(\" \", \"_\")}'})\n",
    "    google_crawler.crawl(keyword=bear, max_num=200)\n"
   ]
  }
 ],
 "metadata": {
  "kernelspec": {
   "display_name": ".venv",
   "language": "python",
   "name": "python3"
  },
  "language_info": {
   "codemirror_mode": {
    "name": "ipython",
    "version": 3
   },
   "file_extension": ".py",
   "mimetype": "text/x-python",
   "name": "python",
   "nbconvert_exporter": "python",
   "pygments_lexer": "ipython3",
   "version": "3.13.3"
  }
 },
 "nbformat": 4,
 "nbformat_minor": 5
}
